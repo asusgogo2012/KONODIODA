{
 "cells": [
  {
   "cell_type": "code",
   "execution_count": 1,
   "metadata": {},
   "outputs": [],
   "source": [
    "import cv2\n",
    "import os\n",
    "import sys\n",
    "import matplotlib.pyplot as plt\n",
    "import matplotlib.image as mpimg\n",
    "import numpy as np\n",
    "from numpy import linalg as LA\n",
    "import time\n",
    "from PIL import Image"
   ]
  },
  {
   "cell_type": "code",
   "execution_count": 2,
   "metadata": {},
   "outputs": [],
   "source": [
    "tStart=time.time()\n",
    "faceCascade = cv2.CascadeClassifier('haarcascade_frontalface_default.xml')\n",
    "orb = cv2.ORB()"
   ]
  },
  {
   "cell_type": "code",
   "execution_count": 3,
   "metadata": {},
   "outputs": [],
   "source": [
    "def load_img(f):\n",
    "    f=open(f)\n",
    "    lines=f.readlines()\n",
    "    \n",
    "    imgs,lab=[], []\n",
    "    \n",
    "    for i in range(len(lines)):\n",
    "        fn,label = lines[i].split(' ')\n",
    "        im1 = cv2.imread(fn)\n",
    "        im1 = cv2.cvtColor(im1, cv2.COLOR_BGR2GRAY)\n",
    "        faces = faceCascade.detectMultiScale(im1,scaleFactor=1.1, minNeighbors=5,minSize=(100,100))\n",
    "        \n",
    "        if len(faces)>0:\n",
    "            faces = faces[0]\n",
    "            im1 = im1[faces[0]: faces[0]+faces[2], faces[1]:faces[1]+faces[3]]\n",
    "            \n",
    "        \n",
    "\n",
    "        imgs.append(im1)\n",
    "        lab.append(int(label))\n",
    "        \n",
    "    return imgs, lab"
   ]
  },
  {
   "cell_type": "code",
   "execution_count": 4,
   "metadata": {},
   "outputs": [
    {
     "name": "stdout",
     "output_type": "stream",
     "text": [
      "Found 2218 images in dataset and 99 queries\n"
     ]
    }
   ],
   "source": [
    "x,y = load_img('train.txt')\n",
    "valx,valy = load_img('val.txt')\n",
    "testx,testy = load_img('test.txt')\n",
    "\n",
    "print ('Found %d images in dataset and %d queries' % (len(x), len(valx)))\n"
   ]
  },
  {
   "cell_type": "code",
   "execution_count": 5,
   "metadata": {},
   "outputs": [],
   "source": [
    "from sklearn.metrics import classification_report\n",
    "recognizer = cv2.face.LBPHFaceRecognizer_create(radius=7, neighbors=13, grid_x=8, grid_y=8)\n",
    "recognizer.train(x, np.array(y))\n",
    "recognizer.save('trainner.xml')\n",
    "import pandas as pd\n",
    "\n",
    "predictions = []\n",
    "confidence = []\n",
    "predictions1 = []\n",
    "confidence1 = []\n",
    "\n",
    "df = pd.read_csv('submission_example.csv')"
   ]
  },
  {
   "cell_type": "code",
   "execution_count": 6,
   "metadata": {},
   "outputs": [],
   "source": [
    "predictions = []\n",
    "confidence = []\n",
    "predictions1 = []\n",
    "confidence1 = []\n",
    "for i in range(0, len(valx)):\n",
    "\n",
    "        (prediction, conf) = recognizer.predict(valx[i])\n",
    "\n",
    "        predictions1.append(prediction)\n",
    "\n",
    "        confidence1.append(conf)"
   ]
  },
  {
   "cell_type": "code",
   "execution_count": 7,
   "metadata": {
    "scrolled": true
   },
   "outputs": [
    {
     "name": "stdout",
     "output_type": "stream",
     "text": [
      "              precision    recall  f1-score   support\n",
      "\n",
      "           0       0.00      0.00      0.00         1\n",
      "           1       0.00      0.00      0.00         1\n",
      "           2       1.00      1.00      1.00         1\n",
      "           3       1.00      1.00      1.00         1\n",
      "           4       0.00      0.00      0.00         1\n",
      "           5       0.00      0.00      0.00         1\n",
      "           6       0.00      0.00      0.00         1\n",
      "           7       0.00      0.00      0.00         1\n",
      "           8       0.00      0.00      0.00         1\n",
      "           9       0.00      0.00      0.00         1\n",
      "          10       0.00      0.00      0.00         1\n",
      "          11       0.00      0.00      0.00         1\n",
      "          12       0.00      0.00      0.00         1\n",
      "          13       0.50      1.00      0.67         1\n",
      "          14       0.50      1.00      0.67         1\n",
      "          15       1.00      1.00      1.00         1\n",
      "          16       0.00      0.00      0.00         1\n",
      "          17       0.00      0.00      0.00         1\n",
      "          18       0.00      0.00      0.00         1\n",
      "          19       0.00      0.00      0.00         1\n",
      "          20       0.00      0.00      0.00         1\n",
      "          21       1.00      1.00      1.00         1\n",
      "          22       0.00      0.00      0.00         1\n",
      "          23       1.00      1.00      1.00         1\n",
      "          24       1.00      1.00      1.00         1\n",
      "          25       1.00      1.00      1.00         1\n",
      "          26       0.50      1.00      0.67         1\n",
      "          27       1.00      1.00      1.00         1\n",
      "          28       1.00      1.00      1.00         1\n",
      "          29       0.00      0.00      0.00         1\n",
      "          30       1.00      1.00      1.00         1\n",
      "          31       1.00      1.00      1.00         1\n",
      "          32       0.00      0.00      0.00         1\n",
      "          33       0.00      0.00      0.00         1\n",
      "          34       0.00      0.00      0.00         1\n",
      "          36       1.00      1.00      1.00         1\n",
      "          37       1.00      1.00      1.00         1\n",
      "          38       0.00      0.00      0.00         1\n",
      "          39       0.00      0.00      0.00         1\n",
      "          40       1.00      1.00      1.00         1\n",
      "          41       0.00      0.00      0.00         1\n",
      "          42       0.00      0.00      0.00         1\n",
      "          43       0.00      0.00      0.00         1\n",
      "          44       0.00      0.00      0.00         1\n",
      "          45       1.00      1.00      1.00         1\n",
      "          46       0.00      0.00      0.00         1\n",
      "          47       1.00      1.00      1.00         1\n",
      "          48       0.00      0.00      0.00         1\n",
      "          49       0.50      1.00      0.67         1\n",
      "          50       0.33      1.00      0.50         1\n",
      "          51       1.00      1.00      1.00         1\n",
      "          52       0.00      0.00      0.00         1\n",
      "          53       0.00      0.00      0.00         1\n",
      "          54       1.00      1.00      1.00         1\n",
      "          55       0.00      0.00      0.00         1\n",
      "          56       0.00      0.00      0.00         1\n",
      "          57       0.00      0.00      0.00         1\n",
      "          58       0.00      0.00      0.00         1\n",
      "          59       1.00      1.00      1.00         1\n",
      "          60       0.00      0.00      0.00         1\n",
      "          61       0.33      1.00      0.50         1\n",
      "          62       1.00      1.00      1.00         1\n",
      "          63       0.33      1.00      0.50         1\n",
      "          64       0.00      0.00      0.00         1\n",
      "          65       0.33      1.00      0.50         1\n",
      "          66       0.00      0.00      0.00         1\n",
      "          67       1.00      1.00      1.00         1\n",
      "          68       0.50      1.00      0.67         1\n",
      "          69       0.50      1.00      0.67         1\n",
      "          70       0.00      0.00      0.00         1\n",
      "          71       0.00      0.00      0.00         1\n",
      "          72       0.00      0.00      0.00         1\n",
      "          73       0.00      0.00      0.00         1\n",
      "          74       1.00      1.00      1.00         1\n",
      "          75       0.00      0.00      0.00         1\n",
      "          76       0.00      0.00      0.00         1\n",
      "          77       0.00      0.00      0.00         1\n",
      "          78       0.00      0.00      0.00         1\n",
      "          79       0.33      1.00      0.50         1\n",
      "          80       1.00      1.00      1.00         1\n",
      "          81       0.20      1.00      0.33         1\n",
      "          82       0.33      1.00      0.50         1\n",
      "          83       0.00      0.00      0.00         1\n",
      "          84       1.00      1.00      1.00         1\n",
      "          85       0.00      0.00      0.00         1\n",
      "          86       1.00      1.00      1.00         1\n",
      "          87       0.50      1.00      0.67         1\n",
      "          88       0.00      0.00      0.00         1\n",
      "          89       0.00      0.00      0.00         1\n",
      "          90       1.00      1.00      1.00         1\n",
      "          91       0.00      0.00      0.00         1\n",
      "          92       1.00      1.00      1.00         1\n",
      "          93       0.00      0.00      0.00         1\n",
      "          94       1.00      1.00      1.00         1\n",
      "          95       1.00      1.00      1.00         1\n",
      "          96       0.00      0.00      0.00         1\n",
      "          97       0.00      0.00      0.00         1\n",
      "          98       0.50      1.00      0.67         1\n",
      "          99       0.00      0.00      0.00         1\n",
      "\n",
      "    accuracy                           0.44        99\n",
      "   macro avg       0.36      0.44      0.38        99\n",
      "weighted avg       0.36      0.44      0.38        99\n",
      "\n"
     ]
    },
    {
     "name": "stderr",
     "output_type": "stream",
     "text": [
      "C:\\Users\\acer\\.conda\\envs\\opencv-env\\lib\\site-packages\\sklearn\\metrics\\classification.py:1437: UndefinedMetricWarning: Precision and F-score are ill-defined and being set to 0.0 in labels with no predicted samples.\n",
      "  'precision', 'predicted', average, warn_for)\n"
     ]
    }
   ],
   "source": [
    "print (classification_report(valy,predictions1))"
   ]
  },
  {
   "cell_type": "code",
   "execution_count": 8,
   "metadata": {},
   "outputs": [
    {
     "name": "stdout",
     "output_type": "stream",
     "text": [
      "It cost 18 min 40 sec\n",
      "[81, 76, 98, 16, 62, 99, 63, 68, 6, 86, 24, 73, 14, 37, 94, 46, 80, 50, 5, 54, 93, 6, 5, 73, 95, 59, 35, 40, 83, 5, 39, 61, 76, 89, 6, 75, 57, 9, 30, 2, 76, 38, 99, 79, 70, 1, 40, 26, 19, 81, 17, 79, 47, 48, 53, 29, 18, 43, 7, 12, 19, 13, 71, 79, 84, 74, 77, 30, 82, 63, 66, 55, 42, 56, 90, 95, 68, 23, 14, 50, 98, 78, 67, 99, 99, 30, 37, 84, 99, 49, 14, 37, 99, 10, 82, 69, 41, 44, 79, 95]\n"
     ]
    }
   ],
   "source": [
    "##########testing predict###############\n",
    "\n",
    "\n",
    "for i in range(0, len(testx)):\n",
    "\n",
    "        (prediction, conf) = recognizer.predict(testx[i])\n",
    "\n",
    "        predictions.append(prediction)\n",
    "\n",
    "        confidence.append(conf)\n",
    "        df['Category'].values[i]=prediction\n",
    "     \n",
    "        \n",
    "\n",
    "df.to_csv('submission.csv', index=False)\n",
    "\n",
    "\n",
    "tEnd = time.time()#計時結束\n",
    "#列印結果\n",
    "print (\"It cost %d min %d sec\" % (((tEnd-tStart)/60),((tEnd-tStart)%60)))#會自動做近位\n",
    "print (predictions)"
   ]
  },
  {
   "cell_type": "code",
   "execution_count": 9,
   "metadata": {},
   "outputs": [
    {
     "name": "stdout",
     "output_type": "stream",
     "text": [
      "[81, 76, 98, 16, 62, 99, 63, 68, 6, 86, 24, 73, 14, 37, 94, 46, 80, 50, 5, 54, 93, 6, 5, 73, 95, 59, 35, 40, 83, 5, 39, 61, 76, 89, 6, 75, 57, 9, 30, 2, 76, 38, 99, 79, 70, 1, 40, 26, 19, 81, 17, 79, 47, 48, 53, 29, 18, 43, 7, 12, 19, 13, 71, 79, 84, 74, 77, 30, 82, 63, 66, 55, 42, 56, 90, 95, 68, 23, 14, 50, 98, 78, 67, 99, 99, 30, 37, 84, 99, 49, 14, 37, 99, 10, 82, 69, 41, 44, 79, 95]\n"
     ]
    }
   ],
   "source": [
    "print (predictions)#0.38"
   ]
  }
 ],
 "metadata": {
  "kernelspec": {
   "display_name": "Python 3",
   "language": "python",
   "name": "python3"
  },
  "language_info": {
   "codemirror_mode": {
    "name": "ipython",
    "version": 3
   },
   "file_extension": ".py",
   "mimetype": "text/x-python",
   "name": "python",
   "nbconvert_exporter": "python",
   "pygments_lexer": "ipython3",
   "version": "3.7.4"
  }
 },
 "nbformat": 4,
 "nbformat_minor": 2
}
